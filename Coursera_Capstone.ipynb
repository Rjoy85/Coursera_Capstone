{
    "cells": [
        {
            "cell_type": "markdown",
            "metadata": {
                "collapsed": true
            },
            "source": "This notebook will be used primarly for the Coursera Capstone project to predict traffic accident severity in Seattle. "
        },
        {
            "cell_type": "code",
            "execution_count": 1,
            "metadata": {},
            "outputs": [
                {
                    "name": "stdout",
                    "output_type": "stream",
                    "text": "Hello Capstone Project Course!\n"
                }
            ],
            "source": "import pandas as pd\nimport numpy as np\nprint('Hello Capstone Project Course!')"
        },
        {
            "cell_type": "code",
            "execution_count": 3,
            "metadata": {},
            "outputs": [
                {
                    "name": "stderr",
                    "output_type": "stream",
                    "text": "/opt/conda/envs/Python36/lib/python3.6/site-packages/IPython/core/interactiveshell.py:3020: DtypeWarning: Columns (33) have mixed types. Specify dtype option on import or set low_memory=False.\n  interactivity=interactivity, compiler=compiler, result=result)\n"
                },
                {
                    "data": {
                        "text/html": "<div>\n<style scoped>\n    .dataframe tbody tr th:only-of-type {\n        vertical-align: middle;\n    }\n\n    .dataframe tbody tr th {\n        vertical-align: top;\n    }\n\n    .dataframe thead th {\n        text-align: right;\n    }\n</style>\n<table border=\"1\" class=\"dataframe\">\n  <thead>\n    <tr style=\"text-align: right;\">\n      <th></th>\n      <th>SEVERITYCODE</th>\n      <th>X</th>\n      <th>Y</th>\n      <th>OBJECTID</th>\n      <th>INCKEY</th>\n      <th>COLDETKEY</th>\n      <th>REPORTNO</th>\n      <th>STATUS</th>\n      <th>ADDRTYPE</th>\n      <th>INTKEY</th>\n      <th>...</th>\n      <th>ROADCOND</th>\n      <th>LIGHTCOND</th>\n      <th>PEDROWNOTGRNT</th>\n      <th>SDOTCOLNUM</th>\n      <th>SPEEDING</th>\n      <th>ST_COLCODE</th>\n      <th>ST_COLDESC</th>\n      <th>SEGLANEKEY</th>\n      <th>CROSSWALKKEY</th>\n      <th>HITPARKEDCAR</th>\n    </tr>\n  </thead>\n  <tbody>\n    <tr>\n      <th>0</th>\n      <td>2</td>\n      <td>-122.323148</td>\n      <td>47.703140</td>\n      <td>1</td>\n      <td>1307</td>\n      <td>1307</td>\n      <td>3502005</td>\n      <td>Matched</td>\n      <td>Intersection</td>\n      <td>37475.0</td>\n      <td>...</td>\n      <td>Wet</td>\n      <td>Daylight</td>\n      <td>NaN</td>\n      <td>NaN</td>\n      <td>NaN</td>\n      <td>10</td>\n      <td>Entering at angle</td>\n      <td>0</td>\n      <td>0</td>\n      <td>N</td>\n    </tr>\n    <tr>\n      <th>1</th>\n      <td>1</td>\n      <td>-122.347294</td>\n      <td>47.647172</td>\n      <td>2</td>\n      <td>52200</td>\n      <td>52200</td>\n      <td>2607959</td>\n      <td>Matched</td>\n      <td>Block</td>\n      <td>NaN</td>\n      <td>...</td>\n      <td>Wet</td>\n      <td>Dark - Street Lights On</td>\n      <td>NaN</td>\n      <td>6354039.0</td>\n      <td>NaN</td>\n      <td>11</td>\n      <td>From same direction - both going straight - bo...</td>\n      <td>0</td>\n      <td>0</td>\n      <td>N</td>\n    </tr>\n    <tr>\n      <th>2</th>\n      <td>1</td>\n      <td>-122.334540</td>\n      <td>47.607871</td>\n      <td>3</td>\n      <td>26700</td>\n      <td>26700</td>\n      <td>1482393</td>\n      <td>Matched</td>\n      <td>Block</td>\n      <td>NaN</td>\n      <td>...</td>\n      <td>Dry</td>\n      <td>Daylight</td>\n      <td>NaN</td>\n      <td>4323031.0</td>\n      <td>NaN</td>\n      <td>32</td>\n      <td>One parked--one moving</td>\n      <td>0</td>\n      <td>0</td>\n      <td>N</td>\n    </tr>\n    <tr>\n      <th>3</th>\n      <td>1</td>\n      <td>-122.334803</td>\n      <td>47.604803</td>\n      <td>4</td>\n      <td>1144</td>\n      <td>1144</td>\n      <td>3503937</td>\n      <td>Matched</td>\n      <td>Block</td>\n      <td>NaN</td>\n      <td>...</td>\n      <td>Dry</td>\n      <td>Daylight</td>\n      <td>NaN</td>\n      <td>NaN</td>\n      <td>NaN</td>\n      <td>23</td>\n      <td>From same direction - all others</td>\n      <td>0</td>\n      <td>0</td>\n      <td>N</td>\n    </tr>\n    <tr>\n      <th>4</th>\n      <td>2</td>\n      <td>-122.306426</td>\n      <td>47.545739</td>\n      <td>5</td>\n      <td>17700</td>\n      <td>17700</td>\n      <td>1807429</td>\n      <td>Matched</td>\n      <td>Intersection</td>\n      <td>34387.0</td>\n      <td>...</td>\n      <td>Wet</td>\n      <td>Daylight</td>\n      <td>NaN</td>\n      <td>4028032.0</td>\n      <td>NaN</td>\n      <td>10</td>\n      <td>Entering at angle</td>\n      <td>0</td>\n      <td>0</td>\n      <td>N</td>\n    </tr>\n  </tbody>\n</table>\n<p>5 rows \u00d7 38 columns</p>\n</div>",
                        "text/plain": "   SEVERITYCODE           X          Y  OBJECTID  INCKEY  COLDETKEY REPORTNO  \\\n0             2 -122.323148  47.703140         1    1307       1307  3502005   \n1             1 -122.347294  47.647172         2   52200      52200  2607959   \n2             1 -122.334540  47.607871         3   26700      26700  1482393   \n3             1 -122.334803  47.604803         4    1144       1144  3503937   \n4             2 -122.306426  47.545739         5   17700      17700  1807429   \n\n    STATUS      ADDRTYPE   INTKEY  ... ROADCOND                LIGHTCOND  \\\n0  Matched  Intersection  37475.0  ...      Wet                 Daylight   \n1  Matched         Block      NaN  ...      Wet  Dark - Street Lights On   \n2  Matched         Block      NaN  ...      Dry                 Daylight   \n3  Matched         Block      NaN  ...      Dry                 Daylight   \n4  Matched  Intersection  34387.0  ...      Wet                 Daylight   \n\n  PEDROWNOTGRNT  SDOTCOLNUM SPEEDING ST_COLCODE  \\\n0           NaN         NaN      NaN         10   \n1           NaN   6354039.0      NaN         11   \n2           NaN   4323031.0      NaN         32   \n3           NaN         NaN      NaN         23   \n4           NaN   4028032.0      NaN         10   \n\n                                          ST_COLDESC  SEGLANEKEY  \\\n0                                  Entering at angle           0   \n1  From same direction - both going straight - bo...           0   \n2                             One parked--one moving           0   \n3                   From same direction - all others           0   \n4                                  Entering at angle           0   \n\n   CROSSWALKKEY  HITPARKEDCAR  \n0             0             N  \n1             0             N  \n2             0             N  \n3             0             N  \n4             0             N  \n\n[5 rows x 38 columns]"
                    },
                    "execution_count": 3,
                    "metadata": {},
                    "output_type": "execute_result"
                }
            ],
            "source": "import types\nimport pandas as pd\nfrom botocore.client import Config\nimport ibm_boto3\n\n@hidden cell\n#Code removed since it included credentials. Loaded the data from IBM account.\n\ndf_data_2 = pd.read_csv(body)\ndf_data_2.head()\n"
        },
        {
            "cell_type": "code",
            "execution_count": 82,
            "metadata": {},
            "outputs": [
                {
                    "data": {
                        "text/plain": "(194673, 38)"
                    },
                    "execution_count": 82,
                    "metadata": {},
                    "output_type": "execute_result"
                }
            ],
            "source": "df=df_data_2\ndf.shape"
        },
        {
            "cell_type": "markdown",
            "metadata": {},
            "source": "First is being sure there are no rows with blank target values (SEVERITYCODE)."
        },
        {
            "cell_type": "code",
            "execution_count": 83,
            "metadata": {},
            "outputs": [
                {
                    "data": {
                        "text/html": "<div>\n<style scoped>\n    .dataframe tbody tr th:only-of-type {\n        vertical-align: middle;\n    }\n\n    .dataframe tbody tr th {\n        vertical-align: top;\n    }\n\n    .dataframe thead th {\n        text-align: right;\n    }\n</style>\n<table border=\"1\" class=\"dataframe\">\n  <thead>\n    <tr style=\"text-align: right;\">\n      <th></th>\n      <th>X</th>\n      <th>Y</th>\n      <th>OBJECTID</th>\n      <th>INCKEY</th>\n      <th>COLDETKEY</th>\n      <th>REPORTNO</th>\n      <th>STATUS</th>\n      <th>ADDRTYPE</th>\n      <th>INTKEY</th>\n      <th>LOCATION</th>\n      <th>...</th>\n      <th>ROADCOND</th>\n      <th>LIGHTCOND</th>\n      <th>PEDROWNOTGRNT</th>\n      <th>SDOTCOLNUM</th>\n      <th>SPEEDING</th>\n      <th>ST_COLCODE</th>\n      <th>ST_COLDESC</th>\n      <th>SEGLANEKEY</th>\n      <th>CROSSWALKKEY</th>\n      <th>HITPARKEDCAR</th>\n    </tr>\n    <tr>\n      <th>SEVERITYCODE</th>\n      <th></th>\n      <th></th>\n      <th></th>\n      <th></th>\n      <th></th>\n      <th></th>\n      <th></th>\n      <th></th>\n      <th></th>\n      <th></th>\n      <th></th>\n      <th></th>\n      <th></th>\n      <th></th>\n      <th></th>\n      <th></th>\n      <th></th>\n      <th></th>\n      <th></th>\n      <th></th>\n      <th></th>\n    </tr>\n  </thead>\n  <tbody>\n    <tr>\n      <th>1</th>\n      <td>132221</td>\n      <td>132221</td>\n      <td>136485</td>\n      <td>136485</td>\n      <td>136485</td>\n      <td>136485</td>\n      <td>136485</td>\n      <td>134750</td>\n      <td>37251</td>\n      <td>134081</td>\n      <td>...</td>\n      <td>132533</td>\n      <td>132405</td>\n      <td>460</td>\n      <td>81429</td>\n      <td>5802</td>\n      <td>136480</td>\n      <td>132622</td>\n      <td>136485</td>\n      <td>136485</td>\n      <td>136485</td>\n    </tr>\n    <tr>\n      <th>2</th>\n      <td>57118</td>\n      <td>57118</td>\n      <td>58188</td>\n      <td>58188</td>\n      <td>58188</td>\n      <td>58188</td>\n      <td>58188</td>\n      <td>57997</td>\n      <td>27819</td>\n      <td>57915</td>\n      <td>...</td>\n      <td>57128</td>\n      <td>57098</td>\n      <td>4207</td>\n      <td>33507</td>\n      <td>3531</td>\n      <td>58175</td>\n      <td>57147</td>\n      <td>58188</td>\n      <td>58188</td>\n      <td>58188</td>\n    </tr>\n  </tbody>\n</table>\n<p>2 rows \u00d7 37 columns</p>\n</div>",
                        "text/plain": "                   X       Y  OBJECTID  INCKEY  COLDETKEY  REPORTNO  STATUS  \\\nSEVERITYCODE                                                                  \n1             132221  132221    136485  136485     136485    136485  136485   \n2              57118   57118     58188   58188      58188     58188   58188   \n\n              ADDRTYPE  INTKEY  LOCATION  ...  ROADCOND  LIGHTCOND  \\\nSEVERITYCODE                              ...                        \n1               134750   37251    134081  ...    132533     132405   \n2                57997   27819     57915  ...     57128      57098   \n\n              PEDROWNOTGRNT  SDOTCOLNUM  SPEEDING  ST_COLCODE  ST_COLDESC  \\\nSEVERITYCODE                                                                \n1                       460       81429      5802      136480      132622   \n2                      4207       33507      3531       58175       57147   \n\n              SEGLANEKEY  CROSSWALKKEY  HITPARKEDCAR  \nSEVERITYCODE                                          \n1                 136485        136485        136485  \n2                  58188         58188         58188  \n\n[2 rows x 37 columns]"
                    },
                    "execution_count": 83,
                    "metadata": {},
                    "output_type": "execute_result"
                }
            ],
            "source": "df['SEVERITYCODE'].dropna(axis=0,inplace=True)\ndf.groupby(['SEVERITYCODE']).count()"
        },
        {
            "cell_type": "markdown",
            "metadata": {},
            "source": "Next is to reduce the dataset to the relevant columns, i.e. those that help to predict the severity of accidents related to time of day, weather, and distracted driving. Not all columns will be used in the final analysis but will help to refine the data further. "
        },
        {
            "cell_type": "code",
            "execution_count": 84,
            "metadata": {},
            "outputs": [
                {
                    "data": {
                        "text/html": "<div>\n<style scoped>\n    .dataframe tbody tr th:only-of-type {\n        vertical-align: middle;\n    }\n\n    .dataframe tbody tr th {\n        vertical-align: top;\n    }\n\n    .dataframe thead th {\n        text-align: right;\n    }\n</style>\n<table border=\"1\" class=\"dataframe\">\n  <thead>\n    <tr style=\"text-align: right;\">\n      <th></th>\n      <th>SEVERITYCODE</th>\n      <th>INCDTTM</th>\n      <th>UNDERINFL</th>\n      <th>WEATHER</th>\n      <th>ROADCOND</th>\n      <th>SPEEDING</th>\n      <th>INATTENTIONIND</th>\n      <th>HITPARKEDCAR</th>\n      <th>COLLISIONTYPE</th>\n    </tr>\n  </thead>\n  <tbody>\n    <tr>\n      <th>0</th>\n      <td>2</td>\n      <td>3/27/2013 2:54:00 PM</td>\n      <td>N</td>\n      <td>Overcast</td>\n      <td>Wet</td>\n      <td>NaN</td>\n      <td>NaN</td>\n      <td>N</td>\n      <td>Angles</td>\n    </tr>\n    <tr>\n      <th>1</th>\n      <td>1</td>\n      <td>12/20/2006 6:55:00 PM</td>\n      <td>0</td>\n      <td>Raining</td>\n      <td>Wet</td>\n      <td>NaN</td>\n      <td>NaN</td>\n      <td>N</td>\n      <td>Sideswipe</td>\n    </tr>\n    <tr>\n      <th>2</th>\n      <td>1</td>\n      <td>11/18/2004 10:20:00 AM</td>\n      <td>0</td>\n      <td>Overcast</td>\n      <td>Dry</td>\n      <td>NaN</td>\n      <td>NaN</td>\n      <td>N</td>\n      <td>Parked Car</td>\n    </tr>\n    <tr>\n      <th>3</th>\n      <td>1</td>\n      <td>3/29/2013 9:26:00 AM</td>\n      <td>N</td>\n      <td>Clear</td>\n      <td>Dry</td>\n      <td>NaN</td>\n      <td>NaN</td>\n      <td>N</td>\n      <td>Other</td>\n    </tr>\n    <tr>\n      <th>4</th>\n      <td>2</td>\n      <td>1/28/2004 8:04:00 AM</td>\n      <td>0</td>\n      <td>Raining</td>\n      <td>Wet</td>\n      <td>NaN</td>\n      <td>NaN</td>\n      <td>N</td>\n      <td>Angles</td>\n    </tr>\n  </tbody>\n</table>\n</div>",
                        "text/plain": "   SEVERITYCODE                 INCDTTM UNDERINFL   WEATHER ROADCOND SPEEDING  \\\n0             2    3/27/2013 2:54:00 PM         N  Overcast      Wet      NaN   \n1             1   12/20/2006 6:55:00 PM         0   Raining      Wet      NaN   \n2             1  11/18/2004 10:20:00 AM         0  Overcast      Dry      NaN   \n3             1    3/29/2013 9:26:00 AM         N     Clear      Dry      NaN   \n4             2    1/28/2004 8:04:00 AM         0   Raining      Wet      NaN   \n\n  INATTENTIONIND HITPARKEDCAR COLLISIONTYPE  \n0            NaN            N        Angles  \n1            NaN            N     Sideswipe  \n2            NaN            N    Parked Car  \n3            NaN            N         Other  \n4            NaN            N        Angles  "
                    },
                    "execution_count": 84,
                    "metadata": {},
                    "output_type": "execute_result"
                }
            ],
            "source": "dfr=df[['SEVERITYCODE','INCDTTM','UNDERINFL','WEATHER','ROADCOND','SPEEDING',\n        'INATTENTIONIND','HITPARKEDCAR','COLLISIONTYPE']].copy()\ndfr.head()"
        },
        {
            "cell_type": "markdown",
            "metadata": {},
            "source": "Business X would like to focus their analysis on traffic accidents involving motor vehicles since the vast majority of their employees commute by car. "
        },
        {
            "cell_type": "code",
            "execution_count": 85,
            "metadata": {},
            "outputs": [
                {
                    "data": {
                        "text/plain": "Parked Car    47987\nAngles        34674\nRear Ended    34090\nOther         23703\nSideswipe     18609\nLeft Turn     13703\nPedestrian     6608\nCycles         5415\nRight Turn     2956\nHead On        2024\nName: COLLISIONTYPE, dtype: int64"
                    },
                    "execution_count": 85,
                    "metadata": {},
                    "output_type": "execute_result"
                }
            ],
            "source": "dfr['COLLISIONTYPE'].value_counts()"
        },
        {
            "cell_type": "markdown",
            "metadata": {},
            "source": "Accidents involving pedestrians and bicycles will be removed."
        },
        {
            "cell_type": "code",
            "execution_count": 86,
            "metadata": {},
            "outputs": [
                {
                    "data": {
                        "text/plain": "Parked Car    47987\nAngles        34674\nRear Ended    34090\nOther         23703\nSideswipe     18609\nLeft Turn     13703\nRight Turn     2956\nHead On        2024\nName: COLLISIONTYPE, dtype: int64"
                    },
                    "execution_count": 86,
                    "metadata": {},
                    "output_type": "execute_result"
                }
            ],
            "source": "dfr=dfr.loc[dfr['COLLISIONTYPE']!='Pedestrian']\ndfr=dfr.loc[dfr['COLLISIONTYPE']!='Cycles']\ndfr['COLLISIONTYPE'].value_counts()"
        },
        {
            "cell_type": "markdown",
            "metadata": {},
            "source": "Other \"human factors\" such as speeding and hitting parked cars will also be eliminated from the dataset to remove confounding variables on the severity of the accident. "
        },
        {
            "cell_type": "code",
            "execution_count": 87,
            "metadata": {},
            "outputs": [
                {
                    "data": {
                        "text/plain": "Y    9161\nName: SPEEDING, dtype: int64"
                    },
                    "execution_count": 87,
                    "metadata": {},
                    "output_type": "execute_result"
                }
            ],
            "source": "dfr['SPEEDING'].value_counts()"
        },
        {
            "cell_type": "code",
            "execution_count": 88,
            "metadata": {},
            "outputs": [
                {
                    "data": {
                        "text/plain": "Series([], Name: SPEEDING, dtype: int64)"
                    },
                    "execution_count": 88,
                    "metadata": {},
                    "output_type": "execute_result"
                }
            ],
            "source": "dfr=dfr.loc[dfr['SPEEDING']!='Y']\ndfr['SPEEDING'].value_counts()"
        },
        {
            "cell_type": "code",
            "execution_count": 89,
            "metadata": {},
            "outputs": [
                {
                    "data": {
                        "text/plain": "N    166415\nY      7074\nName: HITPARKEDCAR, dtype: int64"
                    },
                    "execution_count": 89,
                    "metadata": {},
                    "output_type": "execute_result"
                }
            ],
            "source": "dfr['HITPARKEDCAR'].value_counts()"
        },
        {
            "cell_type": "code",
            "execution_count": 90,
            "metadata": {},
            "outputs": [
                {
                    "data": {
                        "text/plain": "N    166415\nName: HITPARKEDCAR, dtype: int64"
                    },
                    "execution_count": 90,
                    "metadata": {},
                    "output_type": "execute_result"
                }
            ],
            "source": "dfr=dfr.loc[dfr['HITPARKEDCAR']!='Y']\ndfr['HITPARKEDCAR'].value_counts()"
        },
        {
            "cell_type": "code",
            "execution_count": 91,
            "metadata": {},
            "outputs": [
                {
                    "data": {
                        "text/plain": "N    82684\n0    72240\nY     3804\n1     3102\nName: UNDERINFL, dtype: int64"
                    },
                    "execution_count": 91,
                    "metadata": {},
                    "output_type": "execute_result"
                }
            ],
            "source": "dfr['UNDERINFL'].value_counts()"
        },
        {
            "cell_type": "code",
            "execution_count": 92,
            "metadata": {},
            "outputs": [
                {
                    "data": {
                        "text/plain": "N    82684\n0    72240\nName: UNDERINFL, dtype: int64"
                    },
                    "execution_count": 92,
                    "metadata": {},
                    "output_type": "execute_result"
                }
            ],
            "source": "dfr=dfr.loc[dfr['UNDERINFL']!='Y']\ndfr=dfr.loc[dfr['UNDERINFL']!='1']\ndfr['UNDERINFL'].value_counts()"
        },
        {
            "cell_type": "markdown",
            "metadata": {},
            "source": "Those columns can now be dropped from the dataset."
        },
        {
            "cell_type": "code",
            "execution_count": 93,
            "metadata": {},
            "outputs": [
                {
                    "data": {
                        "text/html": "<div>\n<style scoped>\n    .dataframe tbody tr th:only-of-type {\n        vertical-align: middle;\n    }\n\n    .dataframe tbody tr th {\n        vertical-align: top;\n    }\n\n    .dataframe thead th {\n        text-align: right;\n    }\n</style>\n<table border=\"1\" class=\"dataframe\">\n  <thead>\n    <tr style=\"text-align: right;\">\n      <th></th>\n      <th>SEVERITYCODE</th>\n      <th>INCDTTM</th>\n      <th>WEATHER</th>\n      <th>ROADCOND</th>\n      <th>INATTENTIONIND</th>\n    </tr>\n  </thead>\n  <tbody>\n    <tr>\n      <th>0</th>\n      <td>2</td>\n      <td>3/27/2013 2:54:00 PM</td>\n      <td>Overcast</td>\n      <td>Wet</td>\n      <td>NaN</td>\n    </tr>\n    <tr>\n      <th>1</th>\n      <td>1</td>\n      <td>12/20/2006 6:55:00 PM</td>\n      <td>Raining</td>\n      <td>Wet</td>\n      <td>NaN</td>\n    </tr>\n    <tr>\n      <th>2</th>\n      <td>1</td>\n      <td>11/18/2004 10:20:00 AM</td>\n      <td>Overcast</td>\n      <td>Dry</td>\n      <td>NaN</td>\n    </tr>\n    <tr>\n      <th>3</th>\n      <td>1</td>\n      <td>3/29/2013 9:26:00 AM</td>\n      <td>Clear</td>\n      <td>Dry</td>\n      <td>NaN</td>\n    </tr>\n    <tr>\n      <th>4</th>\n      <td>2</td>\n      <td>1/28/2004 8:04:00 AM</td>\n      <td>Raining</td>\n      <td>Wet</td>\n      <td>NaN</td>\n    </tr>\n    <tr>\n      <th>5</th>\n      <td>1</td>\n      <td>4/20/2019 5:42:00 PM</td>\n      <td>Clear</td>\n      <td>Dry</td>\n      <td>NaN</td>\n    </tr>\n    <tr>\n      <th>6</th>\n      <td>1</td>\n      <td>12/9/2008</td>\n      <td>Raining</td>\n      <td>Wet</td>\n      <td>NaN</td>\n    </tr>\n    <tr>\n      <th>8</th>\n      <td>1</td>\n      <td>6/15/2006 1:00:00 PM</td>\n      <td>Clear</td>\n      <td>Dry</td>\n      <td>NaN</td>\n    </tr>\n    <tr>\n      <th>9</th>\n      <td>2</td>\n      <td>3/20/2006 3:49:00 PM</td>\n      <td>Clear</td>\n      <td>Dry</td>\n      <td>NaN</td>\n    </tr>\n    <tr>\n      <th>10</th>\n      <td>1</td>\n      <td>5/25/2006 6:20:00 PM</td>\n      <td>Overcast</td>\n      <td>Dry</td>\n      <td>NaN</td>\n    </tr>\n  </tbody>\n</table>\n</div>",
                        "text/plain": "    SEVERITYCODE                 INCDTTM   WEATHER ROADCOND INATTENTIONIND\n0              2    3/27/2013 2:54:00 PM  Overcast      Wet            NaN\n1              1   12/20/2006 6:55:00 PM   Raining      Wet            NaN\n2              1  11/18/2004 10:20:00 AM  Overcast      Dry            NaN\n3              1    3/29/2013 9:26:00 AM     Clear      Dry            NaN\n4              2    1/28/2004 8:04:00 AM   Raining      Wet            NaN\n5              1    4/20/2019 5:42:00 PM     Clear      Dry            NaN\n6              1               12/9/2008   Raining      Wet            NaN\n8              1    6/15/2006 1:00:00 PM     Clear      Dry            NaN\n9              2    3/20/2006 3:49:00 PM     Clear      Dry            NaN\n10             1    5/25/2006 6:20:00 PM  Overcast      Dry            NaN"
                    },
                    "execution_count": 93,
                    "metadata": {},
                    "output_type": "execute_result"
                }
            ],
            "source": "dfs=dfr[['SEVERITYCODE','INCDTTM','WEATHER','ROADCOND','INATTENTIONIND']].copy()\ndfs.head(10)"
        },
        {
            "cell_type": "code",
            "execution_count": 94,
            "metadata": {},
            "outputs": [
                {
                    "data": {
                        "text/html": "<div>\n<style scoped>\n    .dataframe tbody tr th:only-of-type {\n        vertical-align: middle;\n    }\n\n    .dataframe tbody tr th {\n        vertical-align: top;\n    }\n\n    .dataframe thead th {\n        text-align: right;\n    }\n</style>\n<table border=\"1\" class=\"dataframe\">\n  <thead>\n    <tr style=\"text-align: right;\">\n      <th></th>\n      <th>INCDTTM</th>\n      <th>WEATHER</th>\n      <th>ROADCOND</th>\n      <th>INATTENTIONIND</th>\n    </tr>\n    <tr>\n      <th>SEVERITYCODE</th>\n      <th></th>\n      <th></th>\n      <th></th>\n      <th></th>\n    </tr>\n  </thead>\n  <tbody>\n    <tr>\n      <th>1</th>\n      <td>118143</td>\n      <td>114463</td>\n      <td>114497</td>\n      <td>17109</td>\n    </tr>\n    <tr>\n      <th>2</th>\n      <td>41366</td>\n      <td>40335</td>\n      <td>40346</td>\n      <td>8118</td>\n    </tr>\n  </tbody>\n</table>\n</div>",
                        "text/plain": "              INCDTTM  WEATHER  ROADCOND  INATTENTIONIND\nSEVERITYCODE                                            \n1              118143   114463    114497           17109\n2               41366    40335     40346            8118"
                    },
                    "execution_count": 94,
                    "metadata": {},
                    "output_type": "execute_result"
                }
            ],
            "source": "dfs.groupby('SEVERITYCODE').count()"
        },
        {
            "cell_type": "markdown",
            "metadata": {},
            "source": "Looking at the data, overcast days in the the weather attribute appear to account for why the road condition attribute contains both more dry and wet days, since there is no value synonymous with overcast. Therefore, to reduce the amount of ambiguity, weather will be used to classify road conditions and further refined to only include clear vs raining days as the other classes do not significantly contribute to the dataset or are unknown."
        },
        {
            "cell_type": "code",
            "execution_count": 95,
            "metadata": {},
            "outputs": [
                {
                    "data": {
                        "text/plain": "Dry               102914\nWet                37176\nUnknown            13010\nIce                  781\nSnow/Slush           693\nOther                 91\nStanding Water        66\nOil                   60\nSand/Mud/Dirt         52\nName: ROADCOND, dtype: int64"
                    },
                    "execution_count": 95,
                    "metadata": {},
                    "output_type": "execute_result"
                }
            ],
            "source": "dfs['ROADCOND'].value_counts()"
        },
        {
            "cell_type": "code",
            "execution_count": 96,
            "metadata": {},
            "outputs": [
                {
                    "data": {
                        "text/plain": "Clear                       91367\nRaining                     25764\nOvercast                    22686\nUnknown                     13049\nOther                         717\nSnowing                       631\nFog/Smog/Smoke                437\nSleet/Hail/Freezing Rain       81\nBlowing Sand/Dirt              41\nSevere Crosswind               21\nPartly Cloudy                   4\nName: WEATHER, dtype: int64"
                    },
                    "execution_count": 96,
                    "metadata": {},
                    "output_type": "execute_result"
                }
            ],
            "source": "dfs['WEATHER'].value_counts()"
        },
        {
            "cell_type": "code",
            "execution_count": 97,
            "metadata": {},
            "outputs": [
                {
                    "data": {
                        "text/html": "<div>\n<style scoped>\n    .dataframe tbody tr th:only-of-type {\n        vertical-align: middle;\n    }\n\n    .dataframe tbody tr th {\n        vertical-align: top;\n    }\n\n    .dataframe thead th {\n        text-align: right;\n    }\n</style>\n<table border=\"1\" class=\"dataframe\">\n  <thead>\n    <tr style=\"text-align: right;\">\n      <th></th>\n      <th>SEVERITYCODE</th>\n      <th>INCDTTM</th>\n      <th>WEATHER</th>\n      <th>INATTENTIONIND</th>\n    </tr>\n  </thead>\n  <tbody>\n    <tr>\n      <th>0</th>\n      <td>2</td>\n      <td>3/27/2013 2:54:00 PM</td>\n      <td>Overcast</td>\n      <td>NaN</td>\n    </tr>\n    <tr>\n      <th>1</th>\n      <td>1</td>\n      <td>12/20/2006 6:55:00 PM</td>\n      <td>Raining</td>\n      <td>NaN</td>\n    </tr>\n    <tr>\n      <th>2</th>\n      <td>1</td>\n      <td>11/18/2004 10:20:00 AM</td>\n      <td>Overcast</td>\n      <td>NaN</td>\n    </tr>\n    <tr>\n      <th>3</th>\n      <td>1</td>\n      <td>3/29/2013 9:26:00 AM</td>\n      <td>Clear</td>\n      <td>NaN</td>\n    </tr>\n    <tr>\n      <th>4</th>\n      <td>2</td>\n      <td>1/28/2004 8:04:00 AM</td>\n      <td>Raining</td>\n      <td>NaN</td>\n    </tr>\n  </tbody>\n</table>\n</div>",
                        "text/plain": "   SEVERITYCODE                 INCDTTM   WEATHER INATTENTIONIND\n0             2    3/27/2013 2:54:00 PM  Overcast            NaN\n1             1   12/20/2006 6:55:00 PM   Raining            NaN\n2             1  11/18/2004 10:20:00 AM  Overcast            NaN\n3             1    3/29/2013 9:26:00 AM     Clear            NaN\n4             2    1/28/2004 8:04:00 AM   Raining            NaN"
                    },
                    "execution_count": 97,
                    "metadata": {},
                    "output_type": "execute_result"
                }
            ],
            "source": "dfs.drop(['ROADCOND'],axis=1,inplace=True)\ndfs.head()"
        },
        {
            "cell_type": "code",
            "execution_count": 229,
            "metadata": {},
            "outputs": [
                {
                    "data": {
                        "text/plain": "Clear      91367\nRaining    25764\nName: WEATHER, dtype: int64"
                    },
                    "execution_count": 229,
                    "metadata": {},
                    "output_type": "execute_result"
                }
            ],
            "source": "conditions=['Raining','Clear']\ndfw= dfs[dfs.WEATHER.isin(conditions)]\ndfw['WEATHER'].value_counts()"
        },
        {
            "cell_type": "code",
            "execution_count": 230,
            "metadata": {},
            "outputs": [
                {
                    "data": {
                        "text/html": "<div>\n<style scoped>\n    .dataframe tbody tr th:only-of-type {\n        vertical-align: middle;\n    }\n\n    .dataframe tbody tr th {\n        vertical-align: top;\n    }\n\n    .dataframe thead th {\n        text-align: right;\n    }\n</style>\n<table border=\"1\" class=\"dataframe\">\n  <thead>\n    <tr style=\"text-align: right;\">\n      <th></th>\n      <th>INCDTTM</th>\n      <th>WEATHER</th>\n      <th>INATTENTIONIND</th>\n    </tr>\n    <tr>\n      <th>SEVERITYCODE</th>\n      <th></th>\n      <th></th>\n      <th></th>\n    </tr>\n  </thead>\n  <tbody>\n    <tr>\n      <th>1</th>\n      <td>83918</td>\n      <td>83918</td>\n      <td>13719</td>\n    </tr>\n    <tr>\n      <th>2</th>\n      <td>33213</td>\n      <td>33213</td>\n      <td>6777</td>\n    </tr>\n  </tbody>\n</table>\n</div>",
                        "text/plain": "              INCDTTM  WEATHER  INATTENTIONIND\nSEVERITYCODE                                  \n1               83918    83918           13719\n2               33213    33213            6777"
                    },
                    "execution_count": 230,
                    "metadata": {},
                    "output_type": "execute_result"
                }
            ],
            "source": "dfw.groupby('SEVERITYCODE').count()"
        },
        {
            "cell_type": "code",
            "execution_count": 231,
            "metadata": {},
            "outputs": [
                {
                    "data": {
                        "text/html": "<div>\n<style scoped>\n    .dataframe tbody tr th:only-of-type {\n        vertical-align: middle;\n    }\n\n    .dataframe tbody tr th {\n        vertical-align: top;\n    }\n\n    .dataframe thead th {\n        text-align: right;\n    }\n</style>\n<table border=\"1\" class=\"dataframe\">\n  <thead>\n    <tr style=\"text-align: right;\">\n      <th></th>\n      <th>SEVERITYCODE</th>\n      <th>INCDTTM</th>\n      <th>WEATHER</th>\n      <th>INATTENTIONIND</th>\n    </tr>\n  </thead>\n  <tbody>\n    <tr>\n      <th>1</th>\n      <td>1</td>\n      <td>12/20/2006 6:55:00 PM</td>\n      <td>Raining</td>\n      <td>NaN</td>\n    </tr>\n    <tr>\n      <th>3</th>\n      <td>1</td>\n      <td>3/29/2013 9:26:00 AM</td>\n      <td>Clear</td>\n      <td>NaN</td>\n    </tr>\n    <tr>\n      <th>4</th>\n      <td>2</td>\n      <td>1/28/2004 8:04:00 AM</td>\n      <td>Raining</td>\n      <td>NaN</td>\n    </tr>\n    <tr>\n      <th>5</th>\n      <td>1</td>\n      <td>4/20/2019 5:42:00 PM</td>\n      <td>Clear</td>\n      <td>NaN</td>\n    </tr>\n    <tr>\n      <th>6</th>\n      <td>1</td>\n      <td>12/9/2008</td>\n      <td>Raining</td>\n      <td>NaN</td>\n    </tr>\n  </tbody>\n</table>\n</div>",
                        "text/plain": "   SEVERITYCODE                INCDTTM  WEATHER INATTENTIONIND\n1             1  12/20/2006 6:55:00 PM  Raining            NaN\n3             1   3/29/2013 9:26:00 AM    Clear            NaN\n4             2   1/28/2004 8:04:00 AM  Raining            NaN\n5             1   4/20/2019 5:42:00 PM    Clear            NaN\n6             1              12/9/2008  Raining            NaN"
                    },
                    "execution_count": 231,
                    "metadata": {},
                    "output_type": "execute_result"
                }
            ],
            "source": "dfw.head()"
        },
        {
            "cell_type": "code",
            "execution_count": 232,
            "metadata": {},
            "outputs": [
                {
                    "data": {
                        "text/plain": "Y    20496\nName: INATTENTIONIND, dtype: int64"
                    },
                    "execution_count": 232,
                    "metadata": {},
                    "output_type": "execute_result"
                }
            ],
            "source": "dfw['INATTENTIONIND'].value_counts()"
        },
        {
            "cell_type": "markdown",
            "metadata": {},
            "source": "The NaN values in the INATTENTIONIND need to be converted to a value. "
        },
        {
            "cell_type": "code",
            "execution_count": 233,
            "metadata": {},
            "outputs": [
                {
                    "name": "stderr",
                    "output_type": "stream",
                    "text": "/opt/conda/envs/Python36/lib/python3.6/site-packages/pandas/core/generic.py:5096: SettingWithCopyWarning: \nA value is trying to be set on a copy of a slice from a DataFrame.\nTry using .loc[row_indexer,col_indexer] = value instead\n\nSee the caveats in the documentation: http://pandas.pydata.org/pandas-docs/stable/indexing.html#indexing-view-versus-copy\n  self[name] = value\n"
                },
                {
                    "data": {
                        "text/plain": "N    96635\nY    20496\nName: INATTENTIONIND, dtype: int64"
                    },
                    "execution_count": 233,
                    "metadata": {},
                    "output_type": "execute_result"
                }
            ],
            "source": "dfw.INATTENTIONIND = dfw.INATTENTIONIND.fillna('N')\ndfw['INATTENTIONIND'].value_counts()"
        },
        {
            "cell_type": "markdown",
            "metadata": {},
            "source": "The next step is to remove weekend days and split the remaining dataset into specific time intervals available for commuting to and from work based around the current 9am-5pm workday. There will be two potential time intervals: 1) early, for starting and ending the workday two hours earlier, and 2) current, for the current work scedule. Thus, Business X can choose to shift their 8 hour day based on the safest driving times if that proves to be the most significant factor in predicting more severe accidents when compared to weather."
        },
        {
            "cell_type": "code",
            "execution_count": 234,
            "metadata": {},
            "outputs": [
                {
                    "name": "stderr",
                    "output_type": "stream",
                    "text": "/opt/conda/envs/Python36/lib/python3.6/site-packages/ipykernel/__main__.py:1: SettingWithCopyWarning: \nA value is trying to be set on a copy of a slice from a DataFrame.\nTry using .loc[row_indexer,col_indexer] = value instead\n\nSee the caveats in the documentation: http://pandas.pydata.org/pandas-docs/stable/indexing.html#indexing-view-versus-copy\n  if __name__ == '__main__':\n/opt/conda/envs/Python36/lib/python3.6/site-packages/ipykernel/__main__.py:2: SettingWithCopyWarning: \nA value is trying to be set on a copy of a slice from a DataFrame.\nTry using .loc[row_indexer,col_indexer] = value instead\n\nSee the caveats in the documentation: http://pandas.pydata.org/pandas-docs/stable/indexing.html#indexing-view-versus-copy\n  from ipykernel import kernelapp as app\n/opt/conda/envs/Python36/lib/python3.6/site-packages/ipykernel/__main__.py:3: SettingWithCopyWarning: \nA value is trying to be set on a copy of a slice from a DataFrame.\nTry using .loc[row_indexer,col_indexer] = value instead\n\nSee the caveats in the documentation: http://pandas.pydata.org/pandas-docs/stable/indexing.html#indexing-view-versus-copy\n  app.launch_new_instance()\n"
                },
                {
                    "data": {
                        "text/html": "<div>\n<style scoped>\n    .dataframe tbody tr th:only-of-type {\n        vertical-align: middle;\n    }\n\n    .dataframe tbody tr th {\n        vertical-align: top;\n    }\n\n    .dataframe thead th {\n        text-align: right;\n    }\n</style>\n<table border=\"1\" class=\"dataframe\">\n  <thead>\n    <tr style=\"text-align: right;\">\n      <th></th>\n      <th>SEVERITYCODE</th>\n      <th>INCDTTM</th>\n      <th>WEATHER</th>\n      <th>INATTENTIONIND</th>\n      <th>DAY</th>\n      <th>HOUR</th>\n    </tr>\n  </thead>\n  <tbody>\n    <tr>\n      <th>1</th>\n      <td>1</td>\n      <td>2006-12-20 18:55:00</td>\n      <td>Raining</td>\n      <td>N</td>\n      <td>2</td>\n      <td>18</td>\n    </tr>\n    <tr>\n      <th>3</th>\n      <td>1</td>\n      <td>2013-03-29 09:26:00</td>\n      <td>Clear</td>\n      <td>N</td>\n      <td>4</td>\n      <td>9</td>\n    </tr>\n    <tr>\n      <th>4</th>\n      <td>2</td>\n      <td>2004-01-28 08:04:00</td>\n      <td>Raining</td>\n      <td>N</td>\n      <td>2</td>\n      <td>8</td>\n    </tr>\n    <tr>\n      <th>5</th>\n      <td>1</td>\n      <td>2019-04-20 17:42:00</td>\n      <td>Clear</td>\n      <td>N</td>\n      <td>5</td>\n      <td>17</td>\n    </tr>\n    <tr>\n      <th>6</th>\n      <td>1</td>\n      <td>2008-12-09 00:00:00</td>\n      <td>Raining</td>\n      <td>N</td>\n      <td>1</td>\n      <td>0</td>\n    </tr>\n  </tbody>\n</table>\n</div>",
                        "text/plain": "   SEVERITYCODE             INCDTTM  WEATHER INATTENTIONIND  DAY  HOUR\n1             1 2006-12-20 18:55:00  Raining              N    2    18\n3             1 2013-03-29 09:26:00    Clear              N    4     9\n4             2 2004-01-28 08:04:00  Raining              N    2     8\n5             1 2019-04-20 17:42:00    Clear              N    5    17\n6             1 2008-12-09 00:00:00  Raining              N    1     0"
                    },
                    "execution_count": 234,
                    "metadata": {},
                    "output_type": "execute_result"
                }
            ],
            "source": "dfw['INCDTTM']=pd.to_datetime(dfw['INCDTTM'])\ndfw['DAY']=dfw['INCDTTM'].dt.dayofweek\ndfw['HOUR']=dfw['INCDTTM'].dt.hour\ndfw.head()"
        },
        {
            "cell_type": "code",
            "execution_count": 235,
            "metadata": {},
            "outputs": [
                {
                    "data": {
                        "text/plain": "(117131, 6)"
                    },
                    "execution_count": 235,
                    "metadata": {},
                    "output_type": "execute_result"
                }
            ],
            "source": "dfw.shape"
        },
        {
            "cell_type": "code",
            "execution_count": 236,
            "metadata": {},
            "outputs": [
                {
                    "data": {
                        "text/plain": "4    19571\n3    17881\n2    17635\n1    17258\n5    16352\n0    15856\n6    12578\nName: DAY, dtype: int64"
                    },
                    "execution_count": 236,
                    "metadata": {},
                    "output_type": "execute_result"
                }
            ],
            "source": "dfw['DAY'].value_counts()"
        },
        {
            "cell_type": "code",
            "execution_count": 237,
            "metadata": {},
            "outputs": [
                {
                    "data": {
                        "text/plain": "4    19571\n3    17881\n2    17635\n1    17258\n0    15856\nName: DAY, dtype: int64"
                    },
                    "execution_count": 237,
                    "metadata": {},
                    "output_type": "execute_result"
                }
            ],
            "source": "days=[5,6]\ndfw= dfw[~dfw.DAY.isin(days)]\ndfw['DAY'].value_counts()"
        },
        {
            "cell_type": "code",
            "execution_count": 227,
            "metadata": {},
            "outputs": [
                {
                    "data": {
                        "text/plain": "(67320, 6)"
                    },
                    "execution_count": 227,
                    "metadata": {},
                    "output_type": "execute_result"
                }
            ],
            "source": "dft=dfw[(dfw.HOUR>=5) & (dfw.HOUR<21)]\ndft.shape"
        },
        {
            "cell_type": "code",
            "execution_count": 238,
            "metadata": {},
            "outputs": [
                {
                    "data": {
                        "text/html": "<div>\n<style scoped>\n    .dataframe tbody tr th:only-of-type {\n        vertical-align: middle;\n    }\n\n    .dataframe tbody tr th {\n        vertical-align: top;\n    }\n\n    .dataframe thead th {\n        text-align: right;\n    }\n</style>\n<table border=\"1\" class=\"dataframe\">\n  <thead>\n    <tr style=\"text-align: right;\">\n      <th></th>\n      <th>SEVERITYCODE</th>\n      <th>INCDTTM</th>\n      <th>WEATHER</th>\n      <th>INATTENTIONIND</th>\n      <th>DAY</th>\n      <th>HOUR</th>\n      <th>RUSH</th>\n    </tr>\n  </thead>\n  <tbody>\n    <tr>\n      <th>1</th>\n      <td>1</td>\n      <td>2006-12-20 18:55:00</td>\n      <td>Raining</td>\n      <td>N</td>\n      <td>2</td>\n      <td>18</td>\n      <td>Current</td>\n    </tr>\n    <tr>\n      <th>3</th>\n      <td>1</td>\n      <td>2013-03-29 09:26:00</td>\n      <td>Clear</td>\n      <td>N</td>\n      <td>4</td>\n      <td>9</td>\n      <td>Late</td>\n    </tr>\n    <tr>\n      <th>4</th>\n      <td>2</td>\n      <td>2004-01-28 08:04:00</td>\n      <td>Raining</td>\n      <td>N</td>\n      <td>2</td>\n      <td>8</td>\n      <td>Current</td>\n    </tr>\n    <tr>\n      <th>8</th>\n      <td>1</td>\n      <td>2006-06-15 13:00:00</td>\n      <td>Clear</td>\n      <td>N</td>\n      <td>3</td>\n      <td>13</td>\n      <td>NaN</td>\n    </tr>\n    <tr>\n      <th>9</th>\n      <td>2</td>\n      <td>2006-03-20 15:49:00</td>\n      <td>Clear</td>\n      <td>N</td>\n      <td>0</td>\n      <td>15</td>\n      <td>Early</td>\n    </tr>\n  </tbody>\n</table>\n</div>",
                        "text/plain": "   SEVERITYCODE             INCDTTM  WEATHER INATTENTIONIND  DAY  HOUR  \\\n1             1 2006-12-20 18:55:00  Raining              N    2    18   \n3             1 2013-03-29 09:26:00    Clear              N    4     9   \n4             2 2004-01-28 08:04:00  Raining              N    2     8   \n8             1 2006-06-15 13:00:00    Clear              N    3    13   \n9             2 2006-03-20 15:49:00    Clear              N    0    15   \n\n      RUSH  \n1  Current  \n3     Late  \n4  Current  \n8      NaN  \n9    Early  "
                    },
                    "execution_count": 238,
                    "metadata": {},
                    "output_type": "execute_result"
                }
            ],
            "source": "dft.loc[(dft.HOUR>=5)&(dft.HOUR <7),'RUSH']='Early'\ndft.loc[(dft.HOUR>=7)&(dft.HOUR <9),'RUSH']='Current'\ndft.loc[(dft.HOUR>=9)&(dft.HOUR <11),'RUSH']='Late'\ndft.loc[(dft.HOUR >= 15)&(dft.HOUR <17),'RUSH']='Early'\ndft.loc[(dft.HOUR >= 17)&(dft.HOUR <19),'RUSH']='Current'\ndft.loc[(dft.HOUR >= 19)&(dft.HOUR <21),'RUSH']='Late'\ndft.head()"
        },
        {
            "cell_type": "code",
            "execution_count": 239,
            "metadata": {},
            "outputs": [
                {
                    "data": {
                        "text/plain": "Current    19508\nEarly      14857\nName: RUSH, dtype: int64"
                    },
                    "execution_count": 239,
                    "metadata": {},
                    "output_type": "execute_result"
                }
            ],
            "source": "times=['Early','Current']\ndft= dft[dft.RUSH.isin(times)]\ndft['RUSH'].value_counts()"
        },
        {
            "cell_type": "code",
            "execution_count": 240,
            "metadata": {},
            "outputs": [
                {
                    "data": {
                        "text/html": "<div>\n<style scoped>\n    .dataframe tbody tr th:only-of-type {\n        vertical-align: middle;\n    }\n\n    .dataframe tbody tr th {\n        vertical-align: top;\n    }\n\n    .dataframe thead th {\n        text-align: right;\n    }\n</style>\n<table border=\"1\" class=\"dataframe\">\n  <thead>\n    <tr style=\"text-align: right;\">\n      <th></th>\n      <th>INCDTTM</th>\n      <th>WEATHER</th>\n      <th>INATTENTIONIND</th>\n      <th>DAY</th>\n      <th>HOUR</th>\n      <th>RUSH</th>\n    </tr>\n    <tr>\n      <th>SEVERITYCODE</th>\n      <th></th>\n      <th></th>\n      <th></th>\n      <th></th>\n      <th></th>\n      <th></th>\n    </tr>\n  </thead>\n  <tbody>\n    <tr>\n      <th>1</th>\n      <td>23730</td>\n      <td>23730</td>\n      <td>23730</td>\n      <td>23730</td>\n      <td>23730</td>\n      <td>23730</td>\n    </tr>\n    <tr>\n      <th>2</th>\n      <td>10635</td>\n      <td>10635</td>\n      <td>10635</td>\n      <td>10635</td>\n      <td>10635</td>\n      <td>10635</td>\n    </tr>\n  </tbody>\n</table>\n</div>",
                        "text/plain": "              INCDTTM  WEATHER  INATTENTIONIND    DAY   HOUR   RUSH\nSEVERITYCODE                                                       \n1               23730    23730           23730  23730  23730  23730\n2               10635    10635           10635  10635  10635  10635"
                    },
                    "execution_count": 240,
                    "metadata": {},
                    "output_type": "execute_result"
                }
            ],
            "source": "dft.groupby(['SEVERITYCODE']).count()"
        },
        {
            "cell_type": "markdown",
            "metadata": {},
            "source": "The INCDTTM, DAY, and HOUR columns can now be dropped from the dataset. "
        },
        {
            "cell_type": "code",
            "execution_count": 241,
            "metadata": {},
            "outputs": [
                {
                    "data": {
                        "text/html": "<div>\n<style scoped>\n    .dataframe tbody tr th:only-of-type {\n        vertical-align: middle;\n    }\n\n    .dataframe tbody tr th {\n        vertical-align: top;\n    }\n\n    .dataframe thead th {\n        text-align: right;\n    }\n</style>\n<table border=\"1\" class=\"dataframe\">\n  <thead>\n    <tr style=\"text-align: right;\">\n      <th></th>\n      <th>SEVERITYCODE</th>\n      <th>WEATHER</th>\n      <th>INATTENTIONIND</th>\n      <th>RUSH</th>\n    </tr>\n  </thead>\n  <tbody>\n    <tr>\n      <th>1</th>\n      <td>1</td>\n      <td>Raining</td>\n      <td>N</td>\n      <td>Current</td>\n    </tr>\n    <tr>\n      <th>4</th>\n      <td>2</td>\n      <td>Raining</td>\n      <td>N</td>\n      <td>Current</td>\n    </tr>\n    <tr>\n      <th>9</th>\n      <td>2</td>\n      <td>Clear</td>\n      <td>N</td>\n      <td>Early</td>\n    </tr>\n    <tr>\n      <th>11</th>\n      <td>1</td>\n      <td>Clear</td>\n      <td>N</td>\n      <td>Current</td>\n    </tr>\n    <tr>\n      <th>13</th>\n      <td>1</td>\n      <td>Raining</td>\n      <td>N</td>\n      <td>Current</td>\n    </tr>\n  </tbody>\n</table>\n</div>",
                        "text/plain": "    SEVERITYCODE  WEATHER INATTENTIONIND     RUSH\n1              1  Raining              N  Current\n4              2  Raining              N  Current\n9              2    Clear              N    Early\n11             1    Clear              N  Current\n13             1  Raining              N  Current"
                    },
                    "execution_count": 241,
                    "metadata": {},
                    "output_type": "execute_result"
                }
            ],
            "source": "dft.drop(columns=['INCDTTM','HOUR','DAY'],inplace=True)\ndft.head()"
        },
        {
            "cell_type": "markdown",
            "metadata": {},
            "source": "Because the dataset is still unbalanced between the target variable, SEVERITYCOUNT, a random sample of the remaining dataset will be used. "
        },
        {
            "cell_type": "code",
            "execution_count": 242,
            "metadata": {},
            "outputs": [
                {
                    "name": "stdout",
                    "output_type": "stream",
                    "text": "(23730, 4)    (10635, 4)\n"
                }
            ],
            "source": "random1=dft[dft.SEVERITYCODE==1]\nrandom2=dft[dft.SEVERITYCODE==2]\nprint(random1.shape,\"  \",random2.shape)"
        },
        {
            "cell_type": "code",
            "execution_count": 243,
            "metadata": {},
            "outputs": [
                {
                    "name": "stdout",
                    "output_type": "stream",
                    "text": "(10000, 4)    (10000, 4)\n"
                }
            ],
            "source": "random1=random1.sample(n=10000,replace=False,random_state=2,axis=0)\nrandom2=random2.sample(n=10000,replace=False,random_state=2,axis=0)\nprint(random1.shape,\"  \",random2.shape)"
        },
        {
            "cell_type": "code",
            "execution_count": 244,
            "metadata": {},
            "outputs": [
                {
                    "name": "stdout",
                    "output_type": "stream",
                    "text": "(20000, 4)\n"
                },
                {
                    "data": {
                        "text/html": "<div>\n<style scoped>\n    .dataframe tbody tr th:only-of-type {\n        vertical-align: middle;\n    }\n\n    .dataframe tbody tr th {\n        vertical-align: top;\n    }\n\n    .dataframe thead th {\n        text-align: right;\n    }\n</style>\n<table border=\"1\" class=\"dataframe\">\n  <thead>\n    <tr style=\"text-align: right;\">\n      <th></th>\n      <th>WEATHER</th>\n      <th>INATTENTIONIND</th>\n      <th>RUSH</th>\n    </tr>\n    <tr>\n      <th>SEVERITYCODE</th>\n      <th></th>\n      <th></th>\n      <th></th>\n    </tr>\n  </thead>\n  <tbody>\n    <tr>\n      <th>1</th>\n      <td>10000</td>\n      <td>10000</td>\n      <td>10000</td>\n    </tr>\n    <tr>\n      <th>2</th>\n      <td>10000</td>\n      <td>10000</td>\n      <td>10000</td>\n    </tr>\n  </tbody>\n</table>\n</div>",
                        "text/plain": "              WEATHER  INATTENTIONIND   RUSH\nSEVERITYCODE                                \n1               10000           10000  10000\n2               10000           10000  10000"
                    },
                    "execution_count": 244,
                    "metadata": {},
                    "output_type": "execute_result"
                }
            ],
            "source": "frames = [random1,random2]\ndff=pd.concat(frames,ignore_index=True)\nprint(dff.shape)\ndff.groupby(['SEVERITYCODE']).count()"
        },
        {
            "cell_type": "code",
            "execution_count": 245,
            "metadata": {},
            "outputs": [
                {
                    "data": {
                        "text/html": "<div>\n<style scoped>\n    .dataframe tbody tr th:only-of-type {\n        vertical-align: middle;\n    }\n\n    .dataframe tbody tr th {\n        vertical-align: top;\n    }\n\n    .dataframe thead th {\n        text-align: right;\n    }\n</style>\n<table border=\"1\" class=\"dataframe\">\n  <thead>\n    <tr style=\"text-align: right;\">\n      <th></th>\n      <th>WEATHER</th>\n      <th>INATTENTIONIND</th>\n      <th>RUSH</th>\n    </tr>\n    <tr>\n      <th>SEVERITYCODE</th>\n      <th></th>\n      <th></th>\n      <th></th>\n    </tr>\n  </thead>\n  <tbody>\n    <tr>\n      <th>0</th>\n      <td>10000</td>\n      <td>10000</td>\n      <td>10000</td>\n    </tr>\n    <tr>\n      <th>1</th>\n      <td>10000</td>\n      <td>10000</td>\n      <td>10000</td>\n    </tr>\n  </tbody>\n</table>\n</div>",
                        "text/plain": "              WEATHER  INATTENTIONIND   RUSH\nSEVERITYCODE                                \n0               10000           10000  10000\n1               10000           10000  10000"
                    },
                    "execution_count": 245,
                    "metadata": {},
                    "output_type": "execute_result"
                }
            ],
            "source": "dff['SEVERITYCODE'] = dff['SEVERITYCODE'].replace([1],0)\ndff['SEVERITYCODE'] = dff['SEVERITYCODE'].replace([2],1)\ndff.groupby(['SEVERITYCODE']).count()"
        },
        {
            "cell_type": "markdown",
            "metadata": {},
            "source": "The dataset is now ready for modeling."
        },
        {
            "cell_type": "code",
            "execution_count": 246,
            "metadata": {},
            "outputs": [],
            "source": "import pandas as pd\nimport pylab as pl\nimport numpy as np\nimport scipy.optimize as opt\nfrom sklearn import preprocessing\n%matplotlib inline \nimport matplotlib.pyplot as plt"
        },
        {
            "cell_type": "code",
            "execution_count": 247,
            "metadata": {},
            "outputs": [
                {
                    "data": {
                        "text/plain": "array([['Clear', 'Y', 'Current'],\n       ['Clear', 'N', 'Early'],\n       ['Clear', 'N', 'Early'],\n       ['Clear', 'Y', 'Current'],\n       ['Clear', 'N', 'Current']], dtype=object)"
                    },
                    "execution_count": 247,
                    "metadata": {},
                    "output_type": "execute_result"
                }
            ],
            "source": "X = dff[['WEATHER', 'INATTENTIONIND', 'RUSH']].values\nX[0:5]"
        },
        {
            "cell_type": "code",
            "execution_count": 248,
            "metadata": {},
            "outputs": [
                {
                    "data": {
                        "text/plain": "array([[0, 1, 0],\n       [0, 0, 1],\n       [0, 0, 1],\n       [0, 1, 0],\n       [0, 0, 0]], dtype=object)"
                    },
                    "execution_count": 248,
                    "metadata": {},
                    "output_type": "execute_result"
                }
            ],
            "source": "le_w = preprocessing.LabelEncoder()\nle_w.fit(['Clear','Raining'])\nX[:,0] = le_w.transform(X[:,0]) \n\nle_in = preprocessing.LabelEncoder()\nle_in.fit([ 'N', 'Y'])\nX[:,1] = le_in.transform(X[:,1]) \n\nle_r = preprocessing.LabelEncoder()\nle_r.fit([ 'Early', 'Current'])\nX[:,2] = le_r.transform(X[:,2])\n\nX[0:5]\n"
        },
        {
            "cell_type": "code",
            "execution_count": 249,
            "metadata": {},
            "outputs": [
                {
                    "data": {
                        "text/plain": "array([0, 0, 0, 0, 0])"
                    },
                    "execution_count": 249,
                    "metadata": {},
                    "output_type": "execute_result"
                }
            ],
            "source": "dff['SEVERITYCODE'] = dff['SEVERITYCODE'].astype('int')\ny = np.asarray(dff['SEVERITYCODE'])\ny [0:5]"
        },
        {
            "cell_type": "code",
            "execution_count": 250,
            "metadata": {},
            "outputs": [
                {
                    "name": "stdout",
                    "output_type": "stream",
                    "text": "Train set: (16000, 3) (16000,)\nTest set: (4000, 3) (4000,)\n"
                }
            ],
            "source": "from sklearn.model_selection import train_test_split\nX_train, X_test, y_train, y_test = train_test_split( X, y, test_size=0.2, random_state=4)\nprint ('Train set:', X_train.shape,  y_train.shape)\nprint ('Test set:', X_test.shape,  y_test.shape)"
        },
        {
            "cell_type": "code",
            "execution_count": 251,
            "metadata": {},
            "outputs": [
                {
                    "data": {
                        "text/plain": "LogisticRegression(C=1, class_weight=None, dual=False, fit_intercept=True,\n          intercept_scaling=1, max_iter=100, multi_class='warn',\n          n_jobs=None, penalty='l2', random_state=None, solver='liblinear',\n          tol=0.0001, verbose=0, warm_start=False)"
                    },
                    "execution_count": 251,
                    "metadata": {},
                    "output_type": "execute_result"
                }
            ],
            "source": "from sklearn.linear_model import LogisticRegression\nfrom sklearn.metrics import confusion_matrix\nLR = LogisticRegression(C=1, solver='liblinear').fit(X_train,y_train)\nLR"
        },
        {
            "cell_type": "code",
            "execution_count": 252,
            "metadata": {},
            "outputs": [
                {
                    "data": {
                        "text/plain": "array([0, 0, 0, ..., 1, 1, 0])"
                    },
                    "execution_count": 252,
                    "metadata": {},
                    "output_type": "execute_result"
                }
            ],
            "source": "yhat = LR.predict(X_test)\nyhat"
        },
        {
            "cell_type": "code",
            "execution_count": 253,
            "metadata": {},
            "outputs": [
                {
                    "data": {
                        "text/plain": "array([[0.52008459, 0.47991541],\n       [0.51501396, 0.48498604],\n       [0.51501396, 0.48498604],\n       ...,\n       [0.45931275, 0.54068725],\n       [0.45931275, 0.54068725],\n       [0.52008459, 0.47991541]])"
                    },
                    "execution_count": 253,
                    "metadata": {},
                    "output_type": "execute_result"
                }
            ],
            "source": "yhat_prob = LR.predict_proba(X_test)\nyhat_prob"
        },
        {
            "cell_type": "code",
            "execution_count": 254,
            "metadata": {},
            "outputs": [
                {
                    "data": {
                        "text/plain": "0.5105"
                    },
                    "execution_count": 254,
                    "metadata": {},
                    "output_type": "execute_result"
                }
            ],
            "source": "from sklearn.metrics import jaccard_similarity_score\njaccard_similarity_score(y_test, yhat)"
        },
        {
            "cell_type": "code",
            "execution_count": 255,
            "metadata": {},
            "outputs": [
                {
                    "name": "stdout",
                    "output_type": "stream",
                    "text": "              precision    recall  f1-score   support\n\n           0       0.50      0.62      0.55      1980\n           1       0.52      0.41      0.46      2020\n\n   micro avg       0.51      0.51      0.51      4000\n   macro avg       0.51      0.51      0.51      4000\nweighted avg       0.51      0.51      0.51      4000\n\n"
                }
            ],
            "source": "from sklearn.metrics import classification_report\nprint (classification_report(y_test, yhat))"
        },
        {
            "cell_type": "code",
            "execution_count": 256,
            "metadata": {},
            "outputs": [
                {
                    "data": {
                        "text/plain": "0.6927201921261861"
                    },
                    "execution_count": 256,
                    "metadata": {},
                    "output_type": "execute_result"
                }
            ],
            "source": "from sklearn.metrics import log_loss\nlog_loss(y_test, yhat_prob)"
        },
        {
            "cell_type": "code",
            "execution_count": 270,
            "metadata": {},
            "outputs": [],
            "source": "LRF= LogisticRegression(C=1, solver='liblinear').fit(X,y)"
        },
        {
            "cell_type": "code",
            "execution_count": 271,
            "metadata": {},
            "outputs": [
                {
                    "name": "stdout",
                    "output_type": "stream",
                    "text": "[[ 0.06164327  0.21850028 -0.01137967]]\n"
                }
            ],
            "source": "print(LRF.coef_)"
        },
        {
            "cell_type": "code",
            "execution_count": 272,
            "metadata": {},
            "outputs": [
                {
                    "data": {
                        "text/plain": "array([[1.06358287, 1.24420937, 0.98868483]])"
                    },
                    "execution_count": 272,
                    "metadata": {},
                    "output_type": "execute_result"
                }
            ],
            "source": "odds=np.exp(LRF.coef_)\nodds"
        },
        {
            "cell_type": "code",
            "execution_count": 273,
            "metadata": {},
            "outputs": [
                {
                    "data": {
                        "text/html": "<div>\n<style scoped>\n    .dataframe tbody tr th:only-of-type {\n        vertical-align: middle;\n    }\n\n    .dataframe tbody tr th {\n        vertical-align: top;\n    }\n\n    .dataframe thead th {\n        text-align: right;\n    }\n</style>\n<table border=\"1\" class=\"dataframe\">\n  <thead>\n    <tr style=\"text-align: right;\">\n      <th></th>\n      <th>WEATHER</th>\n      <th>INATTENTIONIND</th>\n      <th>RUSH</th>\n    </tr>\n  </thead>\n  <tbody>\n    <tr>\n      <th>Odds</th>\n      <td>1.063583</td>\n      <td>1.244209</td>\n      <td>0.988685</td>\n    </tr>\n  </tbody>\n</table>\n</div>",
                        "text/plain": "       WEATHER  INATTENTIONIND      RUSH\nOdds  1.063583        1.244209  0.988685"
                    },
                    "execution_count": 273,
                    "metadata": {},
                    "output_type": "execute_result"
                }
            ],
            "source": "results=pd.DataFrame(odds, columns=['WEATHER', 'INATTENTIONIND', 'RUSH'])\nresults.rename(index={0: 'Odds'}, inplace=True)\nresults"
        },
        {
            "cell_type": "markdown",
            "metadata": {},
            "source": "These results indicate that, although the overall model performs poorly at predicting the severity of an accident, distracted driving is the biggest contributing factor to increasing the odds of a severe accident among the three attributes of weather, distracted driving, and time of day. This is evidenced by the odds ratio that indicates a ~24.4% increased probability of an accident being severe when a driver is distracted compared to an ~6.4% increase when it is raining and, ~1.1% decrease when an accident occurs during an early 2-hour time interval than standard rush hour. Business X will therefore invest in the app that prevents workplace distractions (e.g. email notifications) when employees are detected to be in the car."
        }
    ],
    "metadata": {
        "kernelspec": {
            "display_name": "Python 3.6",
            "language": "python",
            "name": "python3"
        },
        "language_info": {
            "codemirror_mode": {
                "name": "ipython",
                "version": 3
            },
            "file_extension": ".py",
            "mimetype": "text/x-python",
            "name": "python",
            "nbconvert_exporter": "python",
            "pygments_lexer": "ipython3",
            "version": "3.6.9"
        }
    },
    "nbformat": 4,
    "nbformat_minor": 1
}